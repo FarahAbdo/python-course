{
  "nbformat": 4,
  "nbformat_minor": 0,
  "metadata": {
    "colab": {
      "provenance": [],
      "authorship_tag": "ABX9TyOPatq5GqTmQG5kjbV3N2/G",
      "include_colab_link": true
    },
    "kernelspec": {
      "name": "python3",
      "display_name": "Python 3"
    },
    "language_info": {
      "name": "python"
    }
  },
  "cells": [
    {
      "cell_type": "markdown",
      "metadata": {
        "id": "view-in-github",
        "colab_type": "text"
      },
      "source": [
        "<a href=\"https://colab.research.google.com/github/FarahAbdo/python-course/blob/master/GDSC_Aswan_Session1_.ipynb\" target=\"_parent\"><img src=\"https://colab.research.google.com/assets/colab-badge.svg\" alt=\"Open In Colab\"/></a>"
      ]
    },
    {
      "cell_type": "markdown",
      "source": [
        "# **Agenda March 7th**  \n",
        "* Fundamentals and core concepts\n",
        "* Syntax of Python\n",
        "* Values and variables\n",
        "* Printing things on the screen\n",
        "* Getting input from the user\n",
        "\n",
        "\n",
        "```\n",
        "By : Farah Abdou\n",
        "```\n",
        "\n",
        "\n",
        "\n",
        "\n"
      ],
      "metadata": {
        "id": "xhl65xTkcsx8"
      }
    },
    {
      "cell_type": "markdown",
      "source": [
        "____________________________________"
      ],
      "metadata": {
        "id": "db7Zu5LHtjMm"
      }
    },
    {
      "cell_type": "markdown",
      "source": [
        "- `print` is a function -- a verb -- in the Python world. It displays things on the screen.\n",
        "- To execute the function, and get it to do something, we put parentheses after its name.\n",
        "- We can ask it to print text by putting that text inside of the parentheses\n",
        "- Note that text must be inside of quotes, either `''` or `\"\"`. (You can use either; there is no difference, but the start quotes must match the end quotes.)"
      ],
      "metadata": {
        "id": "tqkd27v3tdOq"
      }
    },
    {
      "cell_type": "code",
      "execution_count": 1,
      "metadata": {
        "colab": {
          "base_uri": "https://localhost:8080/",
          "height": 0
        },
        "id": "sGgL-3KScGBH",
        "outputId": "1e47cf2e-0a05-4470-b49e-4bf647e25da9"
      },
      "outputs": [
        {
          "output_type": "stream",
          "name": "stdout",
          "text": [
            "Hello\n"
          ]
        }
      ],
      "source": [
        "print('Hello')  # \" \"    ' '"
      ]
    },
    {
      "cell_type": "code",
      "source": [
        "print(50)"
      ],
      "metadata": {
        "colab": {
          "base_uri": "https://localhost:8080/",
          "height": 0
        },
        "id": "2ttD58sWiiRk",
        "outputId": "2a3432e2-520a-4f87-816a-fd7990bc0f83"
      },
      "execution_count": 2,
      "outputs": [
        {
          "output_type": "stream",
          "name": "stdout",
          "text": [
            "50\n"
          ]
        }
      ]
    },
    {
      "cell_type": "code",
      "source": [
        "# numbers don't have quotes around them\n",
        "# text does\n",
        "\n",
        "# what if I add together something slightly different:\n",
        "print('50' + '3')   # can I add together two pieces of text with +?"
      ],
      "metadata": {
        "colab": {
          "base_uri": "https://localhost:8080/",
          "height": 0
        },
        "id": "lSzmGH1Iij2p",
        "outputId": "ff2b91f3-793a-4d94-860b-6949591010e6"
      },
      "execution_count": 3,
      "outputs": [
        {
          "output_type": "stream",
          "name": "stdout",
          "text": [
            "503\n"
          ]
        }
      ]
    },
    {
      "cell_type": "code",
      "source": [
        "print(50+3)"
      ],
      "metadata": {
        "colab": {
          "base_uri": "https://localhost:8080/",
          "height": 0
        },
        "id": "MgynrBiYjErs",
        "outputId": "2da1ee4d-4626-4b63-b9cd-ee8abd8733ac"
      },
      "execution_count": 4,
      "outputs": [
        {
          "output_type": "stream",
          "name": "stdout",
          "text": [
            "53\n"
          ]
        }
      ]
    },
    {
      "cell_type": "code",
      "source": [
        "print(50+ '3')   #Error"
      ],
      "metadata": {
        "colab": {
          "base_uri": "https://localhost:8080/",
          "height": 146
        },
        "id": "XCs8Hm16jlak",
        "outputId": "756ac264-3707-4c9f-d406-2a02ca39f3a4"
      },
      "execution_count": 5,
      "outputs": [
        {
          "output_type": "error",
          "ename": "TypeError",
          "evalue": "unsupported operand type(s) for +: 'int' and 'str'",
          "traceback": [
            "\u001b[0;31m---------------------------------------------------------------------------\u001b[0m",
            "\u001b[0;31mTypeError\u001b[0m                                 Traceback (most recent call last)",
            "\u001b[0;32m<ipython-input-5-a2c21c4cd5e8>\u001b[0m in \u001b[0;36m<cell line: 1>\u001b[0;34m()\u001b[0m\n\u001b[0;32m----> 1\u001b[0;31m \u001b[0mprint\u001b[0m\u001b[0;34m(\u001b[0m\u001b[0;36m50\u001b[0m\u001b[0;34m+\u001b[0m \u001b[0;34m'3'\u001b[0m\u001b[0;34m)\u001b[0m   \u001b[0;31m#Error\u001b[0m\u001b[0;34m\u001b[0m\u001b[0;34m\u001b[0m\u001b[0m\n\u001b[0m",
            "\u001b[0;31mTypeError\u001b[0m: unsupported operand type(s) for +: 'int' and 'str'"
          ]
        }
      ]
    },
    {
      "cell_type": "code",
      "source": [
        "print(50+3)\n",
        "print(50+3)\n",
        "print(50+3)"
      ],
      "metadata": {
        "colab": {
          "base_uri": "https://localhost:8080/",
          "height": 0
        },
        "id": "A-y5fnQokHa4",
        "outputId": "7b7ae826-edae-46e7-cd58-d4d167ed6827"
      },
      "execution_count": 6,
      "outputs": [
        {
          "output_type": "stream",
          "name": "stdout",
          "text": [
            "53\n",
            "53\n",
            "53\n"
          ]
        }
      ]
    },
    {
      "cell_type": "code",
      "source": [
        "# what if I want to keep values around, rather than typing them explicitly at the computer?\n",
        "# we can assign a value to a variable. Then we can refer to that value with the variable.\n",
        "\n",
        "# assignment is done with the = sign. This is *NOT* the same = as you use in mathematics!\n",
        "# In math, = means that the left side is the same as the right side.\n",
        "# In Python, = means that we take the value from the right side, and assign it to the variable on the left side.\n",
        "\n",
        "x = 10\n",
        "y = 20\n",
        "\n",
        "# after executing the above lines, we can refer to x and y, rather than to 10 and 20\n",
        "\n",
        "print(x+y)"
      ],
      "metadata": {
        "colab": {
          "base_uri": "https://localhost:8080/",
          "height": 0
        },
        "id": "Bc5tpi1okoHF",
        "outputId": "f8915023-9b0b-4d21-e971-09e3e13456a4"
      },
      "execution_count": 7,
      "outputs": [
        {
          "output_type": "stream",
          "name": "stdout",
          "text": [
            "30\n"
          ]
        }
      ]
    },
    {
      "cell_type": "code",
      "source": [
        "name = \"Farah\"        # don't forget that text needs to have quotes around it -- variables *never* have quotes around them!\n",
        "\n",
        "print('Hello' + ' ' + name + '!')"
      ],
      "metadata": {
        "colab": {
          "base_uri": "https://localhost:8080/",
          "height": 0
        },
        "id": "byooKrAwlj7F",
        "outputId": "4df16dce-10b7-4c72-c8fd-d5a63cd373c9"
      },
      "execution_count": 8,
      "outputs": [
        {
          "output_type": "stream",
          "name": "stdout",
          "text": [
            "Hello Farah!\n"
          ]
        }
      ]
    },
    {
      "cell_type": "code",
      "source": [
        "greeting = 'Hello ' + name + '!'      # assign a variable the value of our new text string\n",
        "\n",
        "print(greeting)"
      ],
      "metadata": {
        "colab": {
          "base_uri": "https://localhost:8080/",
          "height": 0
        },
        "id": "zHqaKITGm4iL",
        "outputId": "1423e438-2b50-4763-ab30-b67cfaf0ea6b"
      },
      "execution_count": 9,
      "outputs": [
        {
          "output_type": "stream",
          "name": "stdout",
          "text": [
            "Hello Farah!\n"
          ]
        }
      ]
    },
    {
      "cell_type": "code",
      "source": [
        "# we can always ask Python what type of value is in a variable (or what type of value something is)\n",
        "# we can use the \"type\" function\n",
        "\n",
        "\n",
        "type(name)    #str --> string(text)"
      ],
      "metadata": {
        "colab": {
          "base_uri": "https://localhost:8080/",
          "height": 0
        },
        "id": "JF02cJx5nhHi",
        "outputId": "b3eb3e92-acf0-4ef4-b620-e25f215a7c90"
      },
      "execution_count": 10,
      "outputs": [
        {
          "output_type": "execute_result",
          "data": {
            "text/plain": [
              "str"
            ]
          },
          "metadata": {},
          "execution_count": 10
        }
      ]
    },
    {
      "cell_type": "code",
      "source": [
        "type(x)  #int --> integer"
      ],
      "metadata": {
        "colab": {
          "base_uri": "https://localhost:8080/",
          "height": 0
        },
        "id": "5NFm5AT7ohsC",
        "outputId": "654744c9-3348-4de6-fbec-06e15b3cd39d"
      },
      "execution_count": 11,
      "outputs": [
        {
          "output_type": "execute_result",
          "data": {
            "text/plain": [
              "int"
            ]
          },
          "metadata": {},
          "execution_count": 11
        }
      ]
    },
    {
      "cell_type": "code",
      "source": [
        "#How to get input from user ?\n",
        "#    \"input\" function"
      ],
      "metadata": {
        "id": "sot8OxuQpHWm"
      },
      "execution_count": 12,
      "outputs": []
    },
    {
      "cell_type": "code",
      "source": [
        "name = input(\"Enter your name : \")"
      ],
      "metadata": {
        "colab": {
          "base_uri": "https://localhost:8080/",
          "height": 0
        },
        "id": "Ei1-r5SFpKM7",
        "outputId": "d4f9dc96-28c3-46ad-c0f6-57c7864fe126"
      },
      "execution_count": 13,
      "outputs": [
        {
          "name": "stdout",
          "output_type": "stream",
          "text": [
            "Enter your name : Farah\n"
          ]
        }
      ]
    },
    {
      "cell_type": "code",
      "source": [
        "print(name)"
      ],
      "metadata": {
        "colab": {
          "base_uri": "https://localhost:8080/",
          "height": 0
        },
        "id": "oQ4w5nBEpWWl",
        "outputId": "1110bb53-f5ed-4da6-b87a-07a9a59fb9a4"
      },
      "execution_count": 14,
      "outputs": [
        {
          "output_type": "stream",
          "name": "stdout",
          "text": [
            "Farah\n"
          ]
        }
      ]
    },
    {
      "cell_type": "code",
      "source": [
        "type(name)"
      ],
      "metadata": {
        "colab": {
          "base_uri": "https://localhost:8080/",
          "height": 0
        },
        "id": "4MpekGUpprc_",
        "outputId": "4289714b-6f58-4ee0-83f4-5b4fd022558c"
      },
      "execution_count": 15,
      "outputs": [
        {
          "output_type": "execute_result",
          "data": {
            "text/plain": [
              "str"
            ]
          },
          "metadata": {},
          "execution_count": 15
        }
      ]
    },
    {
      "cell_type": "markdown",
      "source": [
        "To know the favourite number of the user"
      ],
      "metadata": {
        "id": "9vUnX-QGp1Dm"
      }
    },
    {
      "cell_type": "code",
      "source": [
        "# remember: input always returns a text string\n",
        "# it so happens that in Python, multiplying a text string by an integer gives you a new, longer string\n",
        "\n",
        "fav_num = input(\"Enter your favourite number: \")"
      ],
      "metadata": {
        "colab": {
          "base_uri": "https://localhost:8080/",
          "height": 0
        },
        "id": "78jEYvT_pveM",
        "outputId": "723f341d-8b9e-4486-ccea-1e15341e82d5"
      },
      "execution_count": 16,
      "outputs": [
        {
          "name": "stdout",
          "output_type": "stream",
          "text": [
            "Enter your favourite number: 40\n"
          ]
        }
      ]
    },
    {
      "cell_type": "code",
      "source": [
        "print(fav_num)"
      ],
      "metadata": {
        "colab": {
          "base_uri": "https://localhost:8080/",
          "height": 0
        },
        "id": "LP5W7rPEp5TZ",
        "outputId": "2a105f7b-3a16-436f-e6b5-cf6c58a99d51"
      },
      "execution_count": 17,
      "outputs": [
        {
          "output_type": "stream",
          "name": "stdout",
          "text": [
            "40\n"
          ]
        }
      ]
    },
    {
      "cell_type": "code",
      "source": [
        "print(fav_num * 2)"
      ],
      "metadata": {
        "colab": {
          "base_uri": "https://localhost:8080/",
          "height": 0
        },
        "id": "AEWoIO3YqA5r",
        "outputId": "d7253fff-c1f2-4155-d2ad-3b646d8b5c22"
      },
      "execution_count": 18,
      "outputs": [
        {
          "output_type": "stream",
          "name": "stdout",
          "text": [
            "4040\n"
          ]
        }
      ]
    },
    {
      "cell_type": "code",
      "source": [
        "# we can think of a function as something that calculates a value and then \"returns it\" to us.\n",
        "# so far, we haven't seen much of that, because print doesn't really return something -- it displays on the screen.\n",
        "# most functions are invoked to get their value back\n",
        "\n",
        "# input's value is whatever the user typed.\n",
        "\n",
        "# another function is \"len\", which tells us the length of a string\n",
        "\n",
        "len('abcd')"
      ],
      "metadata": {
        "colab": {
          "base_uri": "https://localhost:8080/",
          "height": 0
        },
        "id": "BijaGSC3qH2u",
        "outputId": "2ee372dc-6424-4f07-8139-72cf18a8a5e1"
      },
      "execution_count": 19,
      "outputs": [
        {
          "output_type": "execute_result",
          "data": {
            "text/plain": [
              "4"
            ]
          },
          "metadata": {},
          "execution_count": 19
        }
      ]
    },
    {
      "cell_type": "code",
      "source": [
        "fav_num2 = int(input(\"Enter your favourite number: \"))"
      ],
      "metadata": {
        "colab": {
          "base_uri": "https://localhost:8080/",
          "height": 0
        },
        "id": "fNd4TLTerxyX",
        "outputId": "d72a47b9-def2-46a6-fb89-8d6fe623a979"
      },
      "execution_count": 20,
      "outputs": [
        {
          "name": "stdout",
          "output_type": "stream",
          "text": [
            "Enter your favourite number: 40\n"
          ]
        }
      ]
    },
    {
      "cell_type": "code",
      "source": [
        "print(fav_num2)"
      ],
      "metadata": {
        "colab": {
          "base_uri": "https://localhost:8080/",
          "height": 0
        },
        "id": "RWSJOw3Gr23n",
        "outputId": "e16f6e69-a50a-451a-9435-8066e17bb139"
      },
      "execution_count": 21,
      "outputs": [
        {
          "output_type": "stream",
          "name": "stdout",
          "text": [
            "40\n"
          ]
        }
      ]
    },
    {
      "cell_type": "code",
      "source": [
        "print(fav_num2 * 2)  # 40*2  = 80"
      ],
      "metadata": {
        "colab": {
          "base_uri": "https://localhost:8080/",
          "height": 0
        },
        "id": "xB6or-6Lr-XI",
        "outputId": "75bfcfe9-c5b7-4aff-8f72-b94d7dbe739e"
      },
      "execution_count": 22,
      "outputs": [
        {
          "output_type": "stream",
          "name": "stdout",
          "text": [
            "80\n"
          ]
        }
      ]
    }
  ]
}